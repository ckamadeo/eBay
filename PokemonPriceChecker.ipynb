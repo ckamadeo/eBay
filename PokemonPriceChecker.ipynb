{
 "cells": [
  {
   "cell_type": "code",
   "execution_count": 33,
   "metadata": {},
   "outputs": [
    {
     "data": {
      "text/html": [
       "<script>requirejs.config({paths: { 'plotly': ['https://cdn.plot.ly/plotly-latest.min']},});if(!window.Plotly) {{require(['plotly'],function(plotly) {window.Plotly=plotly;});}}</script>"
      ],
      "text/vnd.plotly.v1+html": [
       "<script>requirejs.config({paths: { 'plotly': ['https://cdn.plot.ly/plotly-latest.min']},});if(!window.Plotly) {{require(['plotly'],function(plotly) {window.Plotly=plotly;});}}</script>"
      ]
     },
     "metadata": {},
     "output_type": "display_data"
    }
   ],
   "source": [
    "import ebaysdk\n",
    "import datetime\n",
    "import sys\n",
    "import plotly as py\n",
    "import plotly.graph_objs as go\n",
    "import pandas as pd\n",
    "\n",
    "from ebaysdk.finding import Connection as finding\n",
    "from plotly.graph_objs import Scatter, Figure, Layout\n",
    "\n",
    "py.offline.init_notebook_mode(connected=True)"
   ]
  },
  {
   "cell_type": "code",
   "execution_count": 34,
   "metadata": {
    "collapsed": true
   },
   "outputs": [],
   "source": [
    "# Constants and initialization\n",
    "\n",
    "exclusions = \"-HP -SP -error -psa -PL -LP -set -collection -flash -online -digital -playset -(4) -(2) -(3) -3x -x3 -2x -x2 -4x -x4 -lot -bundle -prerelease -sealed -china -fake\"\n",
    "categoryId = '2611'\n",
    "\n",
    "api = finding(siteid='EBAY-US', appid='ClaudeAm-PokemonT-PRD-85d705b3d-fceb8191', config_file=None)\n"
   ]
  },
  {
   "cell_type": "code",
   "execution_count": 35,
   "metadata": {
    "collapsed": true
   },
   "outputs": [],
   "source": [
    "# EBay API call\n",
    "# Returns dictionary of completed items which is then converted to Pandas dataframe\n",
    "\n",
    "def findCompletedItems(searchstring):\n",
    "    api.execute('findCompletedItems', {\n",
    "        'keywords': [searchstring],\n",
    "        'categoryId' : categoryId,\n",
    "        'itemFilter': [\n",
    "            {'name': 'Currency', 'value': 'USD'},\n",
    "            {'name': 'ListedIn', 'value': 'EBAY-US'},\n",
    "            {'name': 'LocatedIn', 'value': 'US'},\n",
    "            {'name': 'SoldItemsOnly', 'value': 'true'}\n",
    "        ],\n",
    "        'paginationInput': {\n",
    "            'entriesPerPage': '200',\n",
    "            'pageNumber': '1'\n",
    "        },\n",
    "        'sortOrder': 'EndTimeSoonest'\n",
    "    })\n",
    "\n",
    "    dict_items = api.response.dict()\n",
    "    list_results = []\n",
    "    \n",
    "    #DEBUG\n",
    "    #for k, v in dict_items.iteritems():\n",
    "    #    print k, v\n",
    "\n",
    "        \n",
    "    for item in dict_items['searchResult']['item']:\n",
    "        # print \"ItemID: %s\" % item['itemId']\n",
    "        # print \"Title: %s\" % item['title']\n",
    "        if item['shippingInfo']['shippingType'] != 'Calculated' and item['shippingInfo']['shippingType'] != 'FreePickup':\n",
    "\n",
    "            price = float(item['sellingStatus']['convertedCurrentPrice']['value'])\n",
    "            shipping = float(item['shippingInfo']['shippingServiceCost']['value'])\n",
    "            totalcost = price + shipping\n",
    "            saledate = item['listingInfo']['endTime'][:item['listingInfo']['endTime'].find('T')]\n",
    "            saledatetime = item['listingInfo']['endTime']\n",
    "\n",
    "            dt_saledatetime = datetime.datetime.strptime(saledatetime, '%Y-%m-%dT%H:%M:%S.000Z')\n",
    "\n",
    "            # print str.format(saledate) + ' ' + str(totalcost)\n",
    "            list_results.append((dt_saledatetime, totalcost)) \n",
    "            \n",
    "    \n",
    "    df_results = pd.DataFrame(list_results, columns=['Date', 'Price'])\n",
    "    \n",
    "    return df_results\n",
    "        "
   ]
  },
  {
   "cell_type": "code",
   "execution_count": 36,
   "metadata": {
    "collapsed": true
   },
   "outputs": [],
   "source": [
    "def createChart(df_input,keywords):\n",
    "    \n",
    "    df_items_adj = df_input.sort_values(by='Date').set_index('Date')\n",
    "    df_items_sma = df_items_adj.rolling(6).mean()\n",
    "    \n",
    "    layout = dict(title = keywords + ' Price History',\n",
    "              showlegend = False,\n",
    "              xaxis = dict(title = 'Date'),\n",
    "              yaxis = dict(title = 'All-In Prince'),\n",
    "              )\n",
    "\n",
    "    line0 = go.Scatter(\n",
    "              x=df_items_adj.index,\n",
    "              y=df_items_adj.Price,\n",
    "              mode = 'lines+markers',\n",
    "              name = searchstring + ' Price History',\n",
    "              marker = dict(symbol = 'diamond'),\n",
    "              line = dict(color = 'green', width=1)\n",
    "            )\n",
    "\n",
    "    line1 = go.Scatter(\n",
    "              x=df_items_sma.index,\n",
    "              y=df_items_sma.Price,\n",
    "              mode = 'lines',\n",
    "              name = searchstring + ' Price History Avg',\n",
    "              line = dict(color = 'blue', width=4)\n",
    "            )\n",
    "\n",
    "    data = [line0, line1]\n",
    "\n",
    "    fig = dict(data=data, layout=layout)\n",
    "    py.offline.iplot(fig)\n",
    "    "
   ]
  },
  {
   "cell_type": "code",
   "execution_count": 45,
   "metadata": {},
   "outputs": [
    {
     "data": {
      "application/vnd.plotly.v1+json": {
       "data": [
        {
         "line": {
          "color": "green",
          "width": 1
         },
         "marker": {
          "symbol": "diamond"
         },
         "mode": "lines+markers",
         "name": "Ancient Origins Groudon 97/98 -HP -SP -error -psa -PL -LP -set -collection -flash -online -digital -playset -(4) -(2) -(3) -3x -x3 -2x -x2 -4x -x4 -lot -bundle -prerelease -sealed -china -fake Price History",
         "type": "scatter",
         "x": [
          "2017-12-01 20:47:27",
          "2017-12-04 20:39:13",
          "2017-12-06 06:48:44",
          "2017-12-15 21:00:35",
          "2017-12-20 05:49:15",
          "2017-12-22 15:53:01",
          "2017-12-24 21:14:35",
          "2017-12-27 17:00:40",
          "2017-12-27 21:59:21",
          "2018-01-02 03:05:00",
          "2018-01-02 19:28:16",
          "2018-01-02 23:18:33",
          "2018-01-09 21:24:25",
          "2018-01-09 23:55:24",
          "2018-01-11 16:00:25",
          "2018-01-18 20:03:59",
          "2018-01-21 23:33:41",
          "2018-01-23 01:36:20",
          "2018-01-24 03:48:29",
          "2018-02-01 04:38:38",
          "2018-02-05 18:43:14",
          "2018-02-09 02:15:00",
          "2018-02-09 03:04:05",
          "2018-02-10 04:24:09",
          "2018-02-11 18:04:25",
          "2018-02-11 22:51:06",
          "2018-02-16 19:33:03",
          "2018-02-17 04:20:19",
          "2018-02-18 00:56:21",
          "2018-02-26 01:57:53",
          "2018-02-28 05:09:47"
         ],
         "y": [
          17.5,
          13,
          8.25,
          12.99,
          10.49,
          14.75,
          12,
          12.29,
          10.95,
          11.95,
          11.99,
          14.49,
          19.99,
          8.5,
          17.99,
          11.99,
          13.99,
          15,
          12.75,
          13.53,
          11.5,
          19.99,
          14.9,
          18.99,
          19,
          16.99,
          21.9,
          11.5,
          19.58,
          7.99,
          11.99
         ]
        },
        {
         "line": {
          "color": "blue",
          "width": 4
         },
         "mode": "lines",
         "name": "Ancient Origins Groudon 97/98 -HP -SP -error -psa -PL -LP -set -collection -flash -online -digital -playset -(4) -(2) -(3) -3x -x3 -2x -x2 -4x -x4 -lot -bundle -prerelease -sealed -china -fake Price History Avg",
         "type": "scatter",
         "x": [
          "2017-12-01 20:47:27",
          "2017-12-04 20:39:13",
          "2017-12-06 06:48:44",
          "2017-12-15 21:00:35",
          "2017-12-20 05:49:15",
          "2017-12-22 15:53:01",
          "2017-12-24 21:14:35",
          "2017-12-27 17:00:40",
          "2017-12-27 21:59:21",
          "2018-01-02 03:05:00",
          "2018-01-02 19:28:16",
          "2018-01-02 23:18:33",
          "2018-01-09 21:24:25",
          "2018-01-09 23:55:24",
          "2018-01-11 16:00:25",
          "2018-01-18 20:03:59",
          "2018-01-21 23:33:41",
          "2018-01-23 01:36:20",
          "2018-01-24 03:48:29",
          "2018-02-01 04:38:38",
          "2018-02-05 18:43:14",
          "2018-02-09 02:15:00",
          "2018-02-09 03:04:05",
          "2018-02-10 04:24:09",
          "2018-02-11 18:04:25",
          "2018-02-11 22:51:06",
          "2018-02-16 19:33:03",
          "2018-02-17 04:20:19",
          "2018-02-18 00:56:21",
          "2018-02-26 01:57:53",
          "2018-02-28 05:09:47"
         ],
         "y": [
          null,
          null,
          null,
          null,
          null,
          12.83,
          11.913333333333334,
          11.795000000000002,
          12.245000000000003,
          12.07166666666667,
          12.32166666666667,
          12.278333333333336,
          13.610000000000001,
          12.978333333333333,
          14.151666666666666,
          14.158333333333331,
          14.491666666666665,
          14.576666666666666,
          13.37,
          14.208333333333334,
          13.126666666666667,
          14.46,
          14.61166666666667,
          15.276666666666669,
          16.318333333333335,
          16.895,
          18.628333333333334,
          17.213333333333335,
          17.993333333333336,
          16.16,
          14.991666666666667
         ]
        }
       ],
       "layout": {
        "showlegend": false,
        "title": "Ancient Origins Groudon 97/98 Price History",
        "xaxis": {
         "title": "Date"
        },
        "yaxis": {
         "title": "All-In Prince"
        }
       }
      },
      "text/html": [
       "<div id=\"9f6d919d-8825-4255-beb7-9016d840f467\" style=\"height: 525px; width: 100%;\" class=\"plotly-graph-div\"></div><script type=\"text/javascript\">require([\"plotly\"], function(Plotly) { window.PLOTLYENV=window.PLOTLYENV || {};window.PLOTLYENV.BASE_URL=\"https://plot.ly\";Plotly.newPlot(\"9f6d919d-8825-4255-beb7-9016d840f467\", [{\"name\": \"Ancient Origins Groudon 97/98 -HP -SP -error -psa -PL -LP -set -collection -flash -online -digital -playset -(4) -(2) -(3) -3x -x3 -2x -x2 -4x -x4 -lot -bundle -prerelease -sealed -china -fake Price History\", \"marker\": {\"symbol\": \"diamond\"}, \"mode\": \"lines+markers\", \"y\": [17.5, 13.0, 8.25, 12.99, 10.49, 14.75, 12.0, 12.29, 10.95, 11.95, 11.99, 14.49, 19.99, 8.5, 17.99, 11.99, 13.99, 15.0, 12.75, 13.53, 11.5, 19.99, 14.9, 18.99, 19.0, 16.99, 21.9, 11.5, 19.58, 7.99, 11.99], \"x\": [\"2017-12-01 20:47:27\", \"2017-12-04 20:39:13\", \"2017-12-06 06:48:44\", \"2017-12-15 21:00:35\", \"2017-12-20 05:49:15\", \"2017-12-22 15:53:01\", \"2017-12-24 21:14:35\", \"2017-12-27 17:00:40\", \"2017-12-27 21:59:21\", \"2018-01-02 03:05:00\", \"2018-01-02 19:28:16\", \"2018-01-02 23:18:33\", \"2018-01-09 21:24:25\", \"2018-01-09 23:55:24\", \"2018-01-11 16:00:25\", \"2018-01-18 20:03:59\", \"2018-01-21 23:33:41\", \"2018-01-23 01:36:20\", \"2018-01-24 03:48:29\", \"2018-02-01 04:38:38\", \"2018-02-05 18:43:14\", \"2018-02-09 02:15:00\", \"2018-02-09 03:04:05\", \"2018-02-10 04:24:09\", \"2018-02-11 18:04:25\", \"2018-02-11 22:51:06\", \"2018-02-16 19:33:03\", \"2018-02-17 04:20:19\", \"2018-02-18 00:56:21\", \"2018-02-26 01:57:53\", \"2018-02-28 05:09:47\"], \"line\": {\"color\": \"green\", \"width\": 1}, \"type\": \"scatter\"}, {\"name\": \"Ancient Origins Groudon 97/98 -HP -SP -error -psa -PL -LP -set -collection -flash -online -digital -playset -(4) -(2) -(3) -3x -x3 -2x -x2 -4x -x4 -lot -bundle -prerelease -sealed -china -fake Price History Avg\", \"mode\": \"lines\", \"y\": [null, null, null, null, null, 12.83, 11.913333333333334, 11.795000000000002, 12.245000000000003, 12.07166666666667, 12.32166666666667, 12.278333333333336, 13.610000000000001, 12.978333333333333, 14.151666666666666, 14.158333333333331, 14.491666666666665, 14.576666666666666, 13.37, 14.208333333333334, 13.126666666666667, 14.46, 14.61166666666667, 15.276666666666669, 16.318333333333335, 16.895, 18.628333333333334, 17.213333333333335, 17.993333333333336, 16.16, 14.991666666666667], \"x\": [\"2017-12-01 20:47:27\", \"2017-12-04 20:39:13\", \"2017-12-06 06:48:44\", \"2017-12-15 21:00:35\", \"2017-12-20 05:49:15\", \"2017-12-22 15:53:01\", \"2017-12-24 21:14:35\", \"2017-12-27 17:00:40\", \"2017-12-27 21:59:21\", \"2018-01-02 03:05:00\", \"2018-01-02 19:28:16\", \"2018-01-02 23:18:33\", \"2018-01-09 21:24:25\", \"2018-01-09 23:55:24\", \"2018-01-11 16:00:25\", \"2018-01-18 20:03:59\", \"2018-01-21 23:33:41\", \"2018-01-23 01:36:20\", \"2018-01-24 03:48:29\", \"2018-02-01 04:38:38\", \"2018-02-05 18:43:14\", \"2018-02-09 02:15:00\", \"2018-02-09 03:04:05\", \"2018-02-10 04:24:09\", \"2018-02-11 18:04:25\", \"2018-02-11 22:51:06\", \"2018-02-16 19:33:03\", \"2018-02-17 04:20:19\", \"2018-02-18 00:56:21\", \"2018-02-26 01:57:53\", \"2018-02-28 05:09:47\"], \"line\": {\"color\": \"blue\", \"width\": 4}, \"type\": \"scatter\"}], {\"showlegend\": false, \"title\": \"Ancient Origins Groudon 97/98 Price History\", \"xaxis\": {\"title\": \"Date\"}, \"yaxis\": {\"title\": \"All-In Prince\"}}, {\"linkText\": \"Export to plot.ly\", \"showLink\": true})});</script>"
      ],
      "text/vnd.plotly.v1+html": [
       "<div id=\"9f6d919d-8825-4255-beb7-9016d840f467\" style=\"height: 525px; width: 100%;\" class=\"plotly-graph-div\"></div><script type=\"text/javascript\">require([\"plotly\"], function(Plotly) { window.PLOTLYENV=window.PLOTLYENV || {};window.PLOTLYENV.BASE_URL=\"https://plot.ly\";Plotly.newPlot(\"9f6d919d-8825-4255-beb7-9016d840f467\", [{\"name\": \"Ancient Origins Groudon 97/98 -HP -SP -error -psa -PL -LP -set -collection -flash -online -digital -playset -(4) -(2) -(3) -3x -x3 -2x -x2 -4x -x4 -lot -bundle -prerelease -sealed -china -fake Price History\", \"marker\": {\"symbol\": \"diamond\"}, \"mode\": \"lines+markers\", \"y\": [17.5, 13.0, 8.25, 12.99, 10.49, 14.75, 12.0, 12.29, 10.95, 11.95, 11.99, 14.49, 19.99, 8.5, 17.99, 11.99, 13.99, 15.0, 12.75, 13.53, 11.5, 19.99, 14.9, 18.99, 19.0, 16.99, 21.9, 11.5, 19.58, 7.99, 11.99], \"x\": [\"2017-12-01 20:47:27\", \"2017-12-04 20:39:13\", \"2017-12-06 06:48:44\", \"2017-12-15 21:00:35\", \"2017-12-20 05:49:15\", \"2017-12-22 15:53:01\", \"2017-12-24 21:14:35\", \"2017-12-27 17:00:40\", \"2017-12-27 21:59:21\", \"2018-01-02 03:05:00\", \"2018-01-02 19:28:16\", \"2018-01-02 23:18:33\", \"2018-01-09 21:24:25\", \"2018-01-09 23:55:24\", \"2018-01-11 16:00:25\", \"2018-01-18 20:03:59\", \"2018-01-21 23:33:41\", \"2018-01-23 01:36:20\", \"2018-01-24 03:48:29\", \"2018-02-01 04:38:38\", \"2018-02-05 18:43:14\", \"2018-02-09 02:15:00\", \"2018-02-09 03:04:05\", \"2018-02-10 04:24:09\", \"2018-02-11 18:04:25\", \"2018-02-11 22:51:06\", \"2018-02-16 19:33:03\", \"2018-02-17 04:20:19\", \"2018-02-18 00:56:21\", \"2018-02-26 01:57:53\", \"2018-02-28 05:09:47\"], \"line\": {\"color\": \"green\", \"width\": 1}, \"type\": \"scatter\"}, {\"name\": \"Ancient Origins Groudon 97/98 -HP -SP -error -psa -PL -LP -set -collection -flash -online -digital -playset -(4) -(2) -(3) -3x -x3 -2x -x2 -4x -x4 -lot -bundle -prerelease -sealed -china -fake Price History Avg\", \"mode\": \"lines\", \"y\": [null, null, null, null, null, 12.83, 11.913333333333334, 11.795000000000002, 12.245000000000003, 12.07166666666667, 12.32166666666667, 12.278333333333336, 13.610000000000001, 12.978333333333333, 14.151666666666666, 14.158333333333331, 14.491666666666665, 14.576666666666666, 13.37, 14.208333333333334, 13.126666666666667, 14.46, 14.61166666666667, 15.276666666666669, 16.318333333333335, 16.895, 18.628333333333334, 17.213333333333335, 17.993333333333336, 16.16, 14.991666666666667], \"x\": [\"2017-12-01 20:47:27\", \"2017-12-04 20:39:13\", \"2017-12-06 06:48:44\", \"2017-12-15 21:00:35\", \"2017-12-20 05:49:15\", \"2017-12-22 15:53:01\", \"2017-12-24 21:14:35\", \"2017-12-27 17:00:40\", \"2017-12-27 21:59:21\", \"2018-01-02 03:05:00\", \"2018-01-02 19:28:16\", \"2018-01-02 23:18:33\", \"2018-01-09 21:24:25\", \"2018-01-09 23:55:24\", \"2018-01-11 16:00:25\", \"2018-01-18 20:03:59\", \"2018-01-21 23:33:41\", \"2018-01-23 01:36:20\", \"2018-01-24 03:48:29\", \"2018-02-01 04:38:38\", \"2018-02-05 18:43:14\", \"2018-02-09 02:15:00\", \"2018-02-09 03:04:05\", \"2018-02-10 04:24:09\", \"2018-02-11 18:04:25\", \"2018-02-11 22:51:06\", \"2018-02-16 19:33:03\", \"2018-02-17 04:20:19\", \"2018-02-18 00:56:21\", \"2018-02-26 01:57:53\", \"2018-02-28 05:09:47\"], \"line\": {\"color\": \"blue\", \"width\": 4}, \"type\": \"scatter\"}], {\"showlegend\": false, \"title\": \"Ancient Origins Groudon 97/98 Price History\", \"xaxis\": {\"title\": \"Date\"}, \"yaxis\": {\"title\": \"All-In Prince\"}}, {\"linkText\": \"Export to plot.ly\", \"showLink\": true})});</script>"
      ]
     },
     "metadata": {},
     "output_type": "display_data"
    }
   ],
   "source": [
    "list_search = [\n",
    "    'Ancient Origins Groudon 97/98'\n",
    "]\n",
    "\n",
    "for list_item in list_search:\n",
    "    searchstring = list_item + ' ' + exclusions\n",
    "    df_items = findCompletedItems(searchstring)\n",
    "    createChart(df_items,list_item)"
   ]
  },
  {
   "cell_type": "code",
   "execution_count": null,
   "metadata": {
    "collapsed": true
   },
   "outputs": [],
   "source": []
  },
  {
   "cell_type": "code",
   "execution_count": null,
   "metadata": {
    "collapsed": true
   },
   "outputs": [],
   "source": []
  }
 ],
 "metadata": {
  "kernelspec": {
   "display_name": "Python 2",
   "language": "python",
   "name": "python2"
  },
  "language_info": {
   "codemirror_mode": {
    "name": "ipython",
    "version": 2
   },
   "file_extension": ".py",
   "mimetype": "text/x-python",
   "name": "python",
   "nbconvert_exporter": "python",
   "pygments_lexer": "ipython2",
   "version": "2.7.14"
  }
 },
 "nbformat": 4,
 "nbformat_minor": 2
}
